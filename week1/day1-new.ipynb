{
 "cells": [
  {
   "cell_type": "code",
   "execution_count": 1,
   "id": "e10200b0-0f94-4cd4-95c1-f956709e47fa",
   "metadata": {},
   "outputs": [],
   "source": [
    "import os\n",
    "import requests\n",
    "from dotenv import load_dotenv\n",
    "from bs4 import BeautifulSoup\n",
    "from openai import OpenAI\n",
    "from IPython.display import Markdown,display"
   ]
  },
  {
   "cell_type": "code",
   "execution_count": 2,
   "id": "dd595de9-bcae-41a6-b54e-d41ee6137261",
   "metadata": {},
   "outputs": [
    {
     "name": "stdout",
     "output_type": "stream",
     "text": [
      "OpenAI API Key is present and the first few cahracters of the key looks like this sk-proj-\n"
     ]
    }
   ],
   "source": [
    "load_dotenv(override=True)\n",
    "openai = OpenAI()\n",
    "\n",
    "openai_api_key = os.getenv(\"OPENAI_API_KEY\")\n",
    "\n",
    "if openai_api_key:\n",
    "    print(f\"OpenAI API Key is present and the first few cahracters of the key looks like this {openai_api_key[:8]}\")\n",
    "else:\n",
    "    print(\"OpenAI API Key did not load. Please further troublshoot\")"
   ]
  },
  {
   "cell_type": "code",
   "execution_count": 3,
   "id": "8444cb0e-e065-4d48-a4cd-c62325183e65",
   "metadata": {},
   "outputs": [
    {
     "name": "stdout",
     "output_type": "stream",
     "text": [
      "Hello! I’m doing well, thank you! It’s great to hear from you. How can I assist you today?\n"
     ]
    }
   ],
   "source": [
    "messages = [{\n",
    "    'role':'user',\n",
    "    'content':'Hi ChatGPT! This is my first message to you! Hope you are doing well.'\n",
    "}]\n",
    "\n",
    "response = openai.chat.completions.create(model=\"gpt-4o-mini\",messages=messages)\n",
    "\n",
    "answer = response.choices[0].message.content\n",
    "\n",
    "print(answer)"
   ]
  },
  {
   "cell_type": "code",
   "execution_count": 4,
   "id": "c41f1f84-4b5a-4c98-b99d-0b8dac1ef7d7",
   "metadata": {},
   "outputs": [],
   "source": [
    "headers={\n",
    "    \"User-Agent\": \"Mozilla/5.0 (Windows NT 10.0; Win64; x64) AppleWebKit/537.36 (KHTML, like Gecko) Chrome/117.0.0.0 Safari/537.36\"\n",
    "}\n",
    "\n",
    "class Website:\n",
    "    url: str\n",
    "    title: str\n",
    "    text: str\n",
    "    \n",
    "    def __init__(self,url):\n",
    "        self.url = url\n",
    "        response = requests.get(url, headers=headers)\n",
    "        soup = BeautifulSoup(response.content, 'html.parser')\n",
    "        self.title = soup.title.string if soup.title else \"No title found\"\n",
    "        for irrelevant in soup.body([\"script\",\"style\",\"img\",\"input\"]):\n",
    "            irrelevant.decompose()\n",
    "        self.text = soup.body.get_text(separator=\"\\n\", strip=True)"
   ]
  },
  {
   "cell_type": "code",
   "execution_count": 5,
   "id": "90203459-3151-4619-ab5e-a4ccbfb4ca90",
   "metadata": {},
   "outputs": [
    {
     "name": "stdout",
     "output_type": "stream",
     "text": [
      "Home - Edward Donner\n",
      "Home\n",
      "Connect Four\n",
      "Outsmart\n",
      "An arena that pits LLMs against each other in a battle of diplomacy and deviousness\n",
      "About\n",
      "Posts\n",
      "Well, hi there.\n",
      "I’m Ed. I like writing code and experimenting with LLMs, and hopefully you’re here because you do too. I also enjoy DJing (but I’m badly out of practice), amateur electronic music production (\n",
      "very\n",
      "amateur) and losing myself in\n",
      "Hacker News\n",
      ", nodding my head sagely to things I only half understand.\n",
      "I’m the co-founder and CTO of\n",
      "Nebula.io\n",
      ". We’re applying AI to a field where it can make a massive, positive impact: helping people discover their potential and pursue their reason for being. Recruiters use our product today to source, understand, engage and manage talent. I’m previously the founder and CEO of AI startup untapt,\n",
      "acquired in 2021\n",
      ".\n",
      "We work with groundbreaking, proprietary LLMs verticalized for talent, we’ve\n",
      "patented\n",
      "our matching model, and our award-winning platform has happy customers and tons of press coverage.\n",
      "Connect\n",
      "with me for more!\n",
      "May 28, 2025\n",
      "Connecting my courses – become an LLM expert and leader\n",
      "May 18, 2025\n",
      "2025 AI Executive Briefing\n",
      "April 21, 2025\n",
      "The Complete Agentic AI Engineering Course\n",
      "January 23, 2025\n",
      "LLM Workshop – Hands-on with Agents – resources\n",
      "Navigation\n",
      "Home\n",
      "Connect Four\n",
      "Outsmart\n",
      "An arena that pits LLMs against each other in a battle of diplomacy and deviousness\n",
      "About\n",
      "Posts\n",
      "Get in touch\n",
      "ed [at] edwarddonner [dot] com\n",
      "www.edwarddonner.com\n",
      "Follow me\n",
      "LinkedIn\n",
      "Twitter\n",
      "Facebook\n",
      "Subscribe to newsletter\n",
      "Type your email…\n",
      "Subscribe\n"
     ]
    }
   ],
   "source": [
    "ed = Website(\"https://edwarddonner.com\")\n",
    "\n",
    "print(ed.title)\n",
    "print(ed.text)"
   ]
  },
  {
   "cell_type": "code",
   "execution_count": 6,
   "id": "413159bc-d7a2-4dd8-aa6b-ebd0f1c1b187",
   "metadata": {},
   "outputs": [],
   "source": [
    "system_prompt = \"You are an assisant that analyzes the contents of a website \\\n",
    "and provides a short summary, ignoring text that might be navigation related. \\\n",
    "Respond in markdown.\""
   ]
  },
  {
   "cell_type": "code",
   "execution_count": 7,
   "id": "b9616a3d-6575-4465-8d17-3f39156ce2bf",
   "metadata": {},
   "outputs": [
    {
     "name": "stdout",
     "output_type": "stream",
     "text": [
      "You are looking at a website titled Home - Edward Donner\n",
      "The contents of this website is as follows;     please provide a short summary of this website in markdown.     If it includes news or announcements, then summarize these too.\n",
      "\n",
      "Home\n",
      "Connect Four\n",
      "Outsmart\n",
      "An arena that pits LLMs against each other in a battle of diplomacy and deviousness\n",
      "About\n",
      "Posts\n",
      "Well, hi there.\n",
      "I’m Ed. I like writing code and experimenting with LLMs, and hopefully you’re here because you do too. I also enjoy DJing (but I’m badly out of practice), amateur electronic music production (\n",
      "very\n",
      "amateur) and losing myself in\n",
      "Hacker News\n",
      ", nodding my head sagely to things I only half understand.\n",
      "I’m the co-founder and CTO of\n",
      "Nebula.io\n",
      ". We’re applying AI to a field where it can make a massive, positive impact: helping people discover their potential and pursue their reason for being. Recruiters use our product today to source, understand, engage and manage talent. I’m previously the founder and CEO of AI startup untapt,\n",
      "acquired in 2021\n",
      ".\n",
      "We work with groundbreaking, proprietary LLMs verticalized for talent, we’ve\n",
      "patented\n",
      "our matching model, and our award-winning platform has happy customers and tons of press coverage.\n",
      "Connect\n",
      "with me for more!\n",
      "May 28, 2025\n",
      "Connecting my courses – become an LLM expert and leader\n",
      "May 18, 2025\n",
      "2025 AI Executive Briefing\n",
      "April 21, 2025\n",
      "The Complete Agentic AI Engineering Course\n",
      "January 23, 2025\n",
      "LLM Workshop – Hands-on with Agents – resources\n",
      "Navigation\n",
      "Home\n",
      "Connect Four\n",
      "Outsmart\n",
      "An arena that pits LLMs against each other in a battle of diplomacy and deviousness\n",
      "About\n",
      "Posts\n",
      "Get in touch\n",
      "ed [at] edwarddonner [dot] com\n",
      "www.edwarddonner.com\n",
      "Follow me\n",
      "LinkedIn\n",
      "Twitter\n",
      "Facebook\n",
      "Subscribe to newsletter\n",
      "Type your email…\n",
      "Subscribe\n"
     ]
    }
   ],
   "source": [
    "def user_prompt_for(website):\n",
    "    user_prompt = f\"You are looking at a website titled {website.title}\"\n",
    "    user_prompt += \"\\nThe contents of this website is as follows; \\\n",
    "    please provide a short summary of this website in markdown. \\\n",
    "    If it includes news or announcements, then summarize these too.\\n\\n\"\n",
    "\n",
    "    user_prompt += website.text\n",
    "\n",
    "    return user_prompt\n",
    "\n",
    "print(user_prompt_for(ed))"
   ]
  },
  {
   "cell_type": "code",
   "execution_count": 8,
   "id": "fe5f1ee4-77cc-49b6-8e3e-cae62efd1183",
   "metadata": {},
   "outputs": [],
   "source": [
    "messages = [\n",
    "    {'role':'system', 'content':'You are a snarky assistant'},\n",
    "    {'role':'user','content':'What is 2+2?'}\n",
    "]"
   ]
  },
  {
   "cell_type": "code",
   "execution_count": 9,
   "id": "bae610d9-9fbb-4892-bf76-25511decabd0",
   "metadata": {},
   "outputs": [
    {
     "name": "stdout",
     "output_type": "stream",
     "text": [
      "Oh, you’re really going for the tough questions today, huh? Well, I’ll humor you—2 + 2 equals 4. Shocking, I know!\n"
     ]
    }
   ],
   "source": [
    "response = openai.chat.completions.create(model=\"gpt-4o-mini\", messages=messages)\n",
    "\n",
    "answer = response.choices[0].message.content\n",
    "\n",
    "print(answer)"
   ]
  },
  {
   "cell_type": "code",
   "execution_count": 10,
   "id": "3a9d5ea0-72e3-4ca4-ace2-71ae55dce3b7",
   "metadata": {},
   "outputs": [],
   "source": [
    "def messages_for(website):\n",
    "    return[\n",
    "        {'role':'system', 'content': system_prompt},\n",
    "        {'role':'user', 'content':user_prompt_for(website)}\n",
    "    ]"
   ]
  },
  {
   "cell_type": "code",
   "execution_count": 11,
   "id": "ce402843-21d4-45c8-8fb5-8a6f4ec56014",
   "metadata": {},
   "outputs": [
    {
     "data": {
      "text/plain": [
       "[{'role': 'system',\n",
       "  'content': 'You are an assisant that analyzes the contents of a website and provides a short summary, ignoring text that might be navigation related. Respond in markdown.'},\n",
       " {'role': 'user',\n",
       "  'content': 'You are looking at a website titled Home - Edward Donner\\nThe contents of this website is as follows;     please provide a short summary of this website in markdown.     If it includes news or announcements, then summarize these too.\\n\\nHome\\nConnect Four\\nOutsmart\\nAn arena that pits LLMs against each other in a battle of diplomacy and deviousness\\nAbout\\nPosts\\nWell, hi there.\\nI’m Ed. I like writing code and experimenting with LLMs, and hopefully you’re here because you do too. I also enjoy DJing (but I’m badly out of practice), amateur electronic music production (\\nvery\\namateur) and losing myself in\\nHacker News\\n, nodding my head sagely to things I only half understand.\\nI’m the co-founder and CTO of\\nNebula.io\\n. We’re applying AI to a field where it can make a massive, positive impact: helping people discover their potential and pursue their reason for being. Recruiters use our product today to source, understand, engage and manage talent. I’m previously the founder and CEO of AI startup untapt,\\nacquired in 2021\\n.\\nWe work with groundbreaking, proprietary LLMs verticalized for talent, we’ve\\npatented\\nour matching model, and our award-winning platform has happy customers and tons of press coverage.\\nConnect\\nwith me for more!\\nMay 28, 2025\\nConnecting my courses – become an LLM expert and leader\\nMay 18, 2025\\n2025 AI Executive Briefing\\nApril 21, 2025\\nThe Complete Agentic AI Engineering Course\\nJanuary 23, 2025\\nLLM Workshop – Hands-on with Agents – resources\\nNavigation\\nHome\\nConnect Four\\nOutsmart\\nAn arena that pits LLMs against each other in a battle of diplomacy and deviousness\\nAbout\\nPosts\\nGet in touch\\ned [at] edwarddonner [dot] com\\nwww.edwarddonner.com\\nFollow me\\nLinkedIn\\nTwitter\\nFacebook\\nSubscribe to newsletter\\nType your email…\\nSubscribe'}]"
      ]
     },
     "execution_count": 11,
     "metadata": {},
     "output_type": "execute_result"
    }
   ],
   "source": [
    "messages_for(ed)"
   ]
  },
  {
   "cell_type": "code",
   "execution_count": 12,
   "id": "f17edc11-d60f-4573-a437-bffa8bc46605",
   "metadata": {},
   "outputs": [],
   "source": [
    "def summarize(url):\n",
    "    website = Website(url)\n",
    "    response = openai.chat.completions.create(model=\"gpt-4o-mini\",\n",
    "                                             messages=messages_for(website))\n",
    "    return response.choices[0].message.content"
   ]
  },
  {
   "cell_type": "code",
   "execution_count": 13,
   "id": "038f5e63-5b81-4a7c-86a3-b88856765a9a",
   "metadata": {},
   "outputs": [
    {
     "data": {
      "text/plain": [
       "'# Summary of Edward Donner\\'s Website\\n\\nEdward Donner\\'s website serves as a personal platform where he shares his interests in coding, large language models (LLMs), and electronic music. As the co-founder and CTO of Nebula.io, he is focused on leveraging AI to help people discover their potential, particularly in the talent management space. Previously, he founded the AI startup untapt, which was acquired in 2021.\\n\\n## News and Announcements\\n\\n- **May 28, 2025**: Announcement of courses aimed at developing expertise and leadership in LLMs.\\n- **May 18, 2025**: Information about the 2025 AI Executive Briefing.\\n- **April 21, 2025**: Launch of \"The Complete Agentic AI Engineering Course.\"\\n- **January 23, 2025**: Resources shared for the \"LLM Workshop – Hands-on with Agents.\"'"
      ]
     },
     "execution_count": 13,
     "metadata": {},
     "output_type": "execute_result"
    }
   ],
   "source": [
    "summarize(\"https://edwarddonner.com\")"
   ]
  },
  {
   "cell_type": "code",
   "execution_count": 14,
   "id": "38d40361-7faa-42ee-9907-7037551b1c7e",
   "metadata": {},
   "outputs": [
    {
     "data": {
      "text/markdown": [
       "# Summary of the Edward Donner Website\n",
       "\n",
       "The website belongs to Ed Donner, a programmer and enthusiast in the field of Large Language Models (LLMs). Ed is the co-founder and CTO of Nebula.io, which focuses on employing AI to help individuals discover their potential and enhance talent management for recruiters. Previously, he founded the AI startup Untapt, which was acquired in 2021. \n",
       "\n",
       "## Key Features\n",
       "- **Personal Interests**: Ed enjoys coding, experimenting with LLMs, DJing, and producing electronic music. He also engages with the tech community through platforms like Hacker News.\n",
       "- **Current Projects**: Highlights include innovative LLM applications tailored for talent management and a patented matching model.\n",
       "\n",
       "## News & Announcements\n",
       "- **Courses and Workshops**:\n",
       "  - **Connecting my courses – become an LLM expert and leader**: May 28, 2025\n",
       "  - **2025 AI Executive Briefing**: May 18, 2025\n",
       "  - **The Complete Agentic AI Engineering Course**: April 21, 2025\n",
       "  - **LLM Workshop – Hands-on with Agents – resources**: January 23, 2025\n",
       "\n",
       "The website encourages connection and collaboration within the LLM community."
      ],
      "text/plain": [
       "<IPython.core.display.Markdown object>"
      ]
     },
     "metadata": {},
     "output_type": "display_data"
    }
   ],
   "source": [
    "def display_summary(url):\n",
    "    summary = summarize(url)\n",
    "    display(Markdown(summary))\n",
    "\n",
    "display_summary(\"https://edwarddonner.com\")"
   ]
  },
  {
   "cell_type": "code",
   "execution_count": 15,
   "id": "940c0d6f-4594-4442-ba97-9a5d558397b7",
   "metadata": {},
   "outputs": [
    {
     "data": {
      "text/markdown": [
       "# CNN Website Summary\n",
       "\n",
       "CNN provides comprehensive coverage of breaking news from the U.S. and around the world. The platform features a variety of topics including politics, business, health, entertainment, sports, and science, along with live updates on significant global events.\n",
       "\n",
       "## Key News Highlights\n",
       "- **Trump's Legislative Agenda**: Republicans are racing to meet a deadline for Trump's new domestic policy bill, which has progressed in the Senate.\n",
       "- **Iran's Nuclear Program**: The UN's nuclear watchdog reports Iran could start enriching uranium again soon, as an Israeli strike reportedly targets an Iranian prison.\n",
       "- **Ukraine Conflict**: The effectiveness of Russia's recent military offensives is under scrutiny as Ukraine faces significant aerial attacks.\n",
       "- **Jeff Bezos' Wedding**: Details about the lavish wedding of Jeff Bezos and Lauren Sanchez are featured, sparking discussions on cultural and social issues too.\n",
       "- **LGBTQ+ Rights**: Protests and celebrations are noted around Pride Month in the U.S., alongside reports about legislative actions affecting LGBTQ+ communities.\n",
       "\n",
       "The site also includes various multimedia content, such as videos on current articles and ongoing global crises, ensuring viewers are up-to-date with the latest developments."
      ],
      "text/plain": [
       "<IPython.core.display.Markdown object>"
      ]
     },
     "metadata": {},
     "output_type": "display_data"
    }
   ],
   "source": [
    "display_summary(\"https://cnn.com\")"
   ]
  },
  {
   "cell_type": "code",
   "execution_count": 16,
   "id": "ad533ea0-3de8-4274-ad7a-ddf80e8acf36",
   "metadata": {},
   "outputs": [
    {
     "data": {
      "text/markdown": [
       "# Anthropic Overview\n",
       "\n",
       "Anthropic is a company dedicated to building AI technologies with a focus on safety and human benefit. The key features of the website include:\n",
       "\n",
       "- **Claude**: Anthropic's advanced AI models, including Claude Opus 4 and Claude Sonnet 4, which are designed for various applications including coding and AI agents. \n",
       "- **API Access**: Developers are encouraged to build custom applications using the Claude API, with supporting documentation provided.\n",
       "- **Research**: The site includes resources and research on AI safety, societal impacts, and machine interpretability, emphasizing responsible AI development.\n",
       "- **Commitments**: Information on Anthropic’s transparency, responsible scaling policy, and security measures.\n",
       "- **Anthropic Academy**: Educational resources aimed at teaching users how to effectively build with Claude.\n",
       "\n",
       "## Recent Announcements\n",
       "\n",
       "- **ISO 42001 Certification**: Anthropic has received certification in ISO 42001, highlighting its commitment to safe AI practices.\n",
       "- **Release of Claude Opus 4**: The most intelligent AI model to date, showcasing advancements in AI capabilities.\n",
       "\n",
       "The overarching goal of Anthropic is to develop powerful AI systems that prioritize the long-term well-being of society."
      ],
      "text/plain": [
       "<IPython.core.display.Markdown object>"
      ]
     },
     "metadata": {},
     "output_type": "display_data"
    }
   ],
   "source": [
    "display_summary(\"https://anthropic.com\")"
   ]
  },
  {
   "cell_type": "code",
   "execution_count": null,
   "id": "22572666-0f10-4c38-b605-d332c4e7b1e2",
   "metadata": {},
   "outputs": [],
   "source": []
  }
 ],
 "metadata": {
  "kernelspec": {
   "display_name": "Python 3 (ipykernel)",
   "language": "python",
   "name": "python3"
  },
  "language_info": {
   "codemirror_mode": {
    "name": "ipython",
    "version": 3
   },
   "file_extension": ".py",
   "mimetype": "text/x-python",
   "name": "python",
   "nbconvert_exporter": "python",
   "pygments_lexer": "ipython3",
   "version": "3.11.13"
  }
 },
 "nbformat": 4,
 "nbformat_minor": 5
}
